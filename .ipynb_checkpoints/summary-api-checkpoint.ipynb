{
 "cells": [
  {
   "cell_type": "code",
   "execution_count": null,
   "id": "3289902d-c69d-4ae6-bacd-12d55f537f01",
   "metadata": {},
   "outputs": [
    {
     "name": "stderr",
     "output_type": "stream",
     "text": [
      "INFO:     Started server process [13052]\n",
      "INFO:     Waiting for application startup.\n",
      "INFO:     Application startup complete.\n",
      "INFO:     Uvicorn running on http://0.0.0.0:8000 (Press CTRL+C to quit)\n"
     ]
    },
    {
     "name": "stdout",
     "output_type": "stream",
     "text": [
      "INFO:     127.0.0.1:55382 - \"GET / HTTP/1.1\" 404 Not Found\n"
     ]
    }
   ],
   "source": [
    "from fastapi import FastAPI, UploadFile, File, HTTPException\n",
    "from fastapi.middleware.cors import CORSMiddleware\n",
    "from typing import List\n",
    "from ipynb.fs.full.summarize_docs import new_summarize_api, read_docx  # Import functions from summarizer.py\n",
    "import nest_asyncio\n",
    "nest_asyncio.apply()\n",
    "import uvicorn\n",
    "\n",
    "\n",
    "app = FastAPI()\n",
    "\n",
    "app.add_middleware(\n",
    "    CORSMiddleware,\n",
    "    allow_origins=[\"http://localhost:3000\"],  # Replace with your frontend URL\n",
    "    allow_credentials=True,\n",
    "    allow_methods=[\"*\"],\n",
    "    allow_headers=[\"*\"],\n",
    ")\n",
    "\n",
    "@app.post(\"/summarize/\")\n",
    "async def summarize(files: List[UploadFile] = File(...)):\n",
    "    combined_content = \"\"\n",
    "    file_counter=0\n",
    "    \n",
    "    try:\n",
    "        # Read content from each file and combine\n",
    "        for file in files:\n",
    "            file_counter += 1\n",
    "            print(1)\n",
    "            content = read_docx(file)\n",
    "            print(2)\n",
    "            combined_content +=  '**** Experiment '+str(file_counter) +': \\n' + content + \"\\n\"  # Concatenate contents with a newline\n",
    "            # file.file.seek(0)\n",
    "\n",
    "        print(combined_content)\n",
    "        # Generate a summary for the combined content\n",
    "        summary = new_summarize_api(combined_content)\n",
    "        \n",
    "        return {\"summary\": summary}\n",
    "    \n",
    "    except Exception as e:\n",
    "        raise HTTPException(status_code=500, detail=str(e))\n",
    "\n",
    "if __name__ == \"__main__\":\n",
    "    config = uvicorn.Config(app, host=\"0.0.0.0\", port=8000)\n",
    "    server = uvicorn.Server(config)\n",
    "    await server.serve()\n"
   ]
  }
 ],
 "metadata": {
  "kernelspec": {
   "display_name": "Python 3 (ipykernel)",
   "language": "python",
   "name": "python3"
  },
  "language_info": {
   "codemirror_mode": {
    "name": "ipython",
    "version": 3
   },
   "file_extension": ".py",
   "mimetype": "text/x-python",
   "name": "python",
   "nbconvert_exporter": "python",
   "pygments_lexer": "ipython3",
   "version": "3.12.2"
  }
 },
 "nbformat": 4,
 "nbformat_minor": 5
}
